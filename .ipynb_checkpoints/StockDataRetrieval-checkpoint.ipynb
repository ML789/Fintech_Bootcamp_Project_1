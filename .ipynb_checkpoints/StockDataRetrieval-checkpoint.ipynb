{
 "cells": [
  {
   "cell_type": "code",
   "execution_count": 1,
   "id": "4653ccd8-1506-4940-968d-5c88ac549fc9",
   "metadata": {},
   "outputs": [],
   "source": [
    "# Initial imports\n",
    "import os\n",
    "import requests\n",
    "import pandas as pd\n",
    "from dotenv import load_dotenv\n",
    "import alpaca_trade_api as tradeapi\n",
    "import numpy as np\n",
    "import datetime\n"
   ]
  },
  {
   "cell_type": "code",
   "execution_count": 2,
   "id": "5a4aaa55-42b1-474d-a0ae-8fa1e8538df8",
   "metadata": {},
   "outputs": [
    {
     "data": {
      "text/plain": [
       "True"
      ]
     },
     "execution_count": 2,
     "metadata": {},
     "output_type": "execute_result"
    }
   ],
   "source": [
    "# Load .env environment variables\n",
    "load_dotenv()"
   ]
  },
  {
   "cell_type": "code",
   "execution_count": null,
   "id": "15d16350-67a7-4ac1-ab0f-888e972321f3",
   "metadata": {},
   "outputs": [],
   "source": [
    "# Set adjustable variables\n",
    "no_tickers = 30\n",
    "start_date = \"2022-05-5\" # format yyyy-mm-dd\n",
    "end_date   = \"2022-05-12\" # format yyyy-mm-dd"
   ]
  },
  {
   "cell_type": "code",
   "execution_count": 3,
   "id": "f62b5630-0b3f-4376-ac5e-01438a232022",
   "metadata": {},
   "outputs": [],
   "source": [
    "# Set Alpaca API key and secret\n",
    "alpaca_api_key = os.getenv(\"ALPACA_API_KEY\")\n",
    "alpaca_secret_key = os.getenv(\"ALPACA_SECRET_KEY\")"
   ]
  },
  {
   "cell_type": "code",
   "execution_count": 4,
   "id": "2a01cc4c-ab7b-4223-8d3d-c845d68a8362",
   "metadata": {},
   "outputs": [],
   "source": [
    "# Create the Alpaca API object\n",
    "alpaca = tradeapi.REST(\n",
    "    alpaca_api_key,\n",
    "    alpaca_secret_key,\n",
    "    api_version=\"v2\")"
   ]
  },
  {
   "cell_type": "code",
   "execution_count": 50,
   "id": "563a7b61-441c-47e0-8233-32312a0e5102",
   "metadata": {},
   "outputs": [],
   "source": [
    "#import csv file of all tickers to a list\n",
    "\n",
    "full_ticker_list = pd.read_csv ('Data/nasdaq_screener_assets.csv')\n",
    "#drop unwanted columns\n",
    "full_ticker_list = full_ticker_list.drop(['Last Sale', 'Net Change', '% Change', 'Market Cap',\n",
    "       'Country', 'IPO Year', 'Volume', 'Sector', 'Industry'], axis = 'columns')\n",
    "\n",
    "# Remove Tickers with '^', '/', & spaces as Alpaca does not accept them\n",
    "full_ticker_list = full_ticker_list[~full_ticker_list.Symbol.str.contains('^', regex = False)\n",
    "                                    & ~full_ticker_list.Symbol.str.contains('/', regex = False)\n",
    "                                    & ~full_ticker_list.Symbol.str.contains(' ', regex = False)\n",
    "                                   ]"
   ]
  },
  {
   "cell_type": "code",
   "execution_count": 7,
   "id": "1af823be-03a2-4f2d-927e-3139ad96f89a",
   "metadata": {},
   "outputs": [],
   "source": [
    "# Format current date as ISO format\n",
    "start_date = pd.Timestamp(start_date, tz=\"America/New_York\").isoformat()\n",
    "end_date = pd.Timestamp(end_date, tz=\"America/New_York\").isoformat()\n",
    "\n",
    "timeframe = \"1Day\""
   ]
  },
  {
   "cell_type": "code",
   "execution_count": 8,
   "id": "8ddab8f9-27e0-4e31-a902-a00639380072",
   "metadata": {},
   "outputs": [],
   "source": [
    "alpaca_tickers = list(full_ticker_list['Symbol'])"
   ]
  },
  {
   "cell_type": "code",
   "execution_count": 9,
   "id": "3113dcdc-fc30-4934-b039-27b046789e82",
   "metadata": {},
   "outputs": [],
   "source": [
    "df_stock_all = alpaca.get_bars(\n",
    "    alpaca_tickers,\n",
    "    timeframe,\n",
    "    start = start_date,\n",
    "    end = end_date\n",
    ").df"
   ]
  },
  {
   "cell_type": "code",
   "execution_count": 10,
   "id": "16ac3fbb-e7eb-4e50-a2d8-e08d4068d6b0",
   "metadata": {},
   "outputs": [],
   "source": [
    "\n",
    "# Set up stock_price_change varialbe as data frame to capture all start and end values\n",
    "stock_price_change = pd.DataFrame(columns = ['Ticker', 'Start Price', 'End Price','Price Change'])\n",
    "stock_price_change['Ticker'] = full_ticker_list['Symbol']\n",
    "\n",
    "# loop through the \n",
    "for index in stock_price_change.index:\n",
    "    ticker = stock_price_change['Ticker'][index]\n",
    "    ticker_data_temp = df_stock_all[df_stock_all.symbol == ticker]\n",
    "    \n",
    "    # ignore ticker if no symbol was found from Alpaca\n",
    "    if ticker_data_temp.size != 0:\n",
    "    \n",
    "        stock_price_change['Start Price'][index] = ticker_data_temp.at[ticker_data_temp.index.max(), 'close']\n",
    "        stock_price_change['End Price'][index] = ticker_data_temp.at[ticker_data_temp.index.min(), 'close']\n",
    "\n",
    "# calculate price change\n",
    "stock_price_change['Price Change'] = stock_price_change['End Price'] - stock_price_change['Start Price']\n",
    "stock_price_change['Price Change %'] = (stock_price_change['Price Change']/stock_price_change['Start Price'])*100\n"
   ]
  },
  {
   "cell_type": "code",
   "execution_count": 13,
   "id": "8b806823-6c8c-43b9-9270-b7174362e9a1",
   "metadata": {},
   "outputs": [],
   "source": [
    "# Clean stock_price_change, drop NaNs and sort in order of % change\n",
    "stock_price_change.sort_values(by = 'Price Change %',ascending = False, inplace = True)\n",
    "stock_price_change.dropna(axis = 'index', how = 'any' ,inplace = True)\n",
    "stock_price_change.reset_index(drop = True, inplace = True)\n"
   ]
  },
  {
   "cell_type": "code",
   "execution_count": 14,
   "id": "6d768dbd-3645-4888-97d0-2dcce1c8b53a",
   "metadata": {},
   "outputs": [],
   "source": [
    "# Select Tickers for analysis distributed through Data Set\n",
    "rows_count = stock_price_change.shape[0]\n",
    "# calculate step size for selection less one to avoid the ends\n",
    "increment = round(rows_count/(no_tickers))-1\n",
    "list_select_tickers = range(round(no_tickers/2), rows_count, increment)\n"
   ]
  },
  {
   "cell_type": "code",
   "execution_count": 73,
   "id": "dc7afa03-dddd-4a98-aee7-a811e1a984d3",
   "metadata": {},
   "outputs": [],
   "source": [
    "list_analysis_tickers = list(stock_price_change['Ticker'][list_select_tickers].values)"
   ]
  },
  {
   "cell_type": "code",
   "execution_count": 114,
   "id": "c4177ff4-c998-4e56-acf0-24cd575fd03a",
   "metadata": {},
   "outputs": [],
   "source": [
    "# capture stock price data of the selected tickers for analysis \n",
    "df_stock_price_data = df_stock_all[df_stock_all['symbol'].isin(list_analysis_tickers)]\n",
    "df_stock_price_data.reset_index(inplace = True)\n",
    "\n",
    "df_stock_price_data.loc[:,'timestamp'] = df_stock_price_data['timestamp'].dt.date\n",
    "\n",
    "df_stock_price_data.drop(['open','high','low','volume','trade_count','vwap'], axis='columns',inplace = True)\n",
    "df_stock_price_data.columns = ['Date','Close','Ticker']\n"
   ]
  },
  {
   "cell_type": "code",
   "execution_count": 122,
   "id": "be5db84d-c7ee-47fc-9090-a69fce5e38cc",
   "metadata": {},
   "outputs": [],
   "source": [
    "# save CSV of df_stock_price_data as 'Data/StockPriceData.csv'\n",
    "df_stock_price_data.to_csv('Data/StockPriceData.csv')"
   ]
  }
 ],
 "metadata": {
  "kernelspec": {
   "display_name": "Python 3 (ipykernel)",
   "language": "python",
   "name": "python3"
  },
  "language_info": {
   "codemirror_mode": {
    "name": "ipython",
    "version": 3
   },
   "file_extension": ".py",
   "mimetype": "text/x-python",
   "name": "python",
   "nbconvert_exporter": "python",
   "pygments_lexer": "ipython3",
   "version": "3.7.11"
  }
 },
 "nbformat": 4,
 "nbformat_minor": 5
}
