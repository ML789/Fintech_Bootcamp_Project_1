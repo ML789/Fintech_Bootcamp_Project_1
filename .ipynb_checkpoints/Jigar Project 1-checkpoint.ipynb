{
 "cells": [
  {
   "cell_type": "code",
   "execution_count": 3,
   "id": "974942ba",
   "metadata": {},
   "outputs": [],
   "source": [
    "## Import the essential library\n",
    "\n",
    "import os\n",
    "import requests\n",
    "import pandas as pd\n",
    "from dotenv import load_dotenv\n",
    "from pathlib import Path"
   ]
  },
  {
   "cell_type": "code",
   "execution_count": 10,
   "id": "b6820dc9",
   "metadata": {},
   "outputs": [
    {
     "data": {
      "text/html": [
       "<div>\n",
       "<style scoped>\n",
       "    .dataframe tbody tr th:only-of-type {\n",
       "        vertical-align: middle;\n",
       "    }\n",
       "\n",
       "    .dataframe tbody tr th {\n",
       "        vertical-align: top;\n",
       "    }\n",
       "\n",
       "    .dataframe thead th {\n",
       "        text-align: right;\n",
       "    }\n",
       "</style>\n",
       "<table border=\"1\" class=\"dataframe\">\n",
       "  <thead>\n",
       "    <tr style=\"text-align: right;\">\n",
       "      <th></th>\n",
       "      <th>Company Name</th>\n",
       "    </tr>\n",
       "    <tr>\n",
       "      <th>Symbol</th>\n",
       "      <th></th>\n",
       "    </tr>\n",
       "  </thead>\n",
       "  <tbody>\n",
       "    <tr>\n",
       "      <th>AAIT</th>\n",
       "      <td>iShares MSCI All Country Asia Information Tech...</td>\n",
       "    </tr>\n",
       "    <tr>\n",
       "      <th>AAL</th>\n",
       "      <td>American Airlines Group, Inc.</td>\n",
       "    </tr>\n",
       "    <tr>\n",
       "      <th>AAME</th>\n",
       "      <td>Atlantic American Corporation</td>\n",
       "    </tr>\n",
       "    <tr>\n",
       "      <th>AAOI</th>\n",
       "      <td>Applied Optoelectronics, Inc.</td>\n",
       "    </tr>\n",
       "    <tr>\n",
       "      <th>AAON</th>\n",
       "      <td>AAON, Inc.</td>\n",
       "    </tr>\n",
       "    <tr>\n",
       "      <th>...</th>\n",
       "      <td>...</td>\n",
       "    </tr>\n",
       "    <tr>\n",
       "      <th>ZN</th>\n",
       "      <td>Zion Oil &amp; Gas Inc</td>\n",
       "    </tr>\n",
       "    <tr>\n",
       "      <th>ZNGA</th>\n",
       "      <td>Zynga Inc.</td>\n",
       "    </tr>\n",
       "    <tr>\n",
       "      <th>ZSPH</th>\n",
       "      <td>ZS Pharma, Inc.</td>\n",
       "    </tr>\n",
       "    <tr>\n",
       "      <th>ZU</th>\n",
       "      <td>zulily, inc.</td>\n",
       "    </tr>\n",
       "    <tr>\n",
       "      <th>ZUMZ</th>\n",
       "      <td>Zumiez Inc.</td>\n",
       "    </tr>\n",
       "  </tbody>\n",
       "</table>\n",
       "<p>2967 rows × 1 columns</p>\n",
       "</div>"
      ],
      "text/plain": [
       "                                             Company Name\n",
       "Symbol                                                   \n",
       "AAIT    iShares MSCI All Country Asia Information Tech...\n",
       "AAL                         American Airlines Group, Inc.\n",
       "AAME                        Atlantic American Corporation\n",
       "AAOI                        Applied Optoelectronics, Inc.\n",
       "AAON                                           AAON, Inc.\n",
       "...                                                   ...\n",
       "ZN                                     Zion Oil & Gas Inc\n",
       "ZNGA                                           Zynga Inc.\n",
       "ZSPH                                      ZS Pharma, Inc.\n",
       "ZU                                           zulily, inc.\n",
       "ZUMZ                                          Zumiez Inc.\n",
       "\n",
       "[2967 rows x 1 columns]"
      ]
     },
     "execution_count": 10,
     "metadata": {},
     "output_type": "execute_result"
    }
   ],
   "source": [
    "## Read the ticker symbols and put it in the dataframe\n",
    "csvpath = Path(\"Data/nasdaq-listed-symbols.csv\")\n",
    "tickers_df = pd.read_csv(csvpath, index_col = \"Symbol\")\n",
    "tickers_df"
   ]
  }
 ],
 "metadata": {
  "kernelspec": {
   "display_name": "Python 3 (ipykernel)",
   "language": "python",
   "name": "python3"
  },
  "language_info": {
   "codemirror_mode": {
    "name": "ipython",
    "version": 3
   },
   "file_extension": ".py",
   "mimetype": "text/x-python",
   "name": "python",
   "nbconvert_exporter": "python",
   "pygments_lexer": "ipython3",
   "version": "3.7.11"
  }
 },
 "nbformat": 4,
 "nbformat_minor": 5
}
