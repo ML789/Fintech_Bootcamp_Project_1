{
 "cells": [
  {
   "cell_type": "code",
   "execution_count": 60,
   "id": "8e6a3b11",
   "metadata": {},
   "outputs": [],
   "source": [
    "# Initial imports\n",
    "import os\n",
    "import requests\n",
    "import pandas as pd\n",
    "from dotenv import load_dotenv\n",
    "import alpaca_trade_api as tradeapi\n",
    "import numpy as np\n",
    "from vaderSentiment.vaderSentiment import SentimentIntensityAnalyzer\n",
    "from datetime import datetime, timedelta"
   ]
  },
  {
   "cell_type": "code",
   "execution_count": 61,
   "id": "a4c9f10c",
   "metadata": {},
   "outputs": [
    {
     "data": {
      "text/plain": [
       "True"
      ]
     },
     "execution_count": 61,
     "metadata": {},
     "output_type": "execute_result"
    }
   ],
   "source": [
    "load_dotenv()"
   ]
  },
  {
   "cell_type": "code",
   "execution_count": 62,
   "id": "88cc70e4",
   "metadata": {},
   "outputs": [
    {
     "data": {
      "text/plain": [
       "datetime.datetime(2022, 5, 14, 13, 0, 0, 620018)"
      ]
     },
     "execution_count": 62,
     "metadata": {},
     "output_type": "execute_result"
    }
   ],
   "source": [
    "# Set adjustable variables\n",
    "seven_day_delta = timedelta(days=7)\n",
    "one_day_delta = timedelta(days=1)\n",
    "\n",
    "#Set the end date as yesterday\n",
    "end_date_time = datetime.today() - one_day_delta\n",
    "end_date = end_date_time.date()\n",
    "\n",
    "#Set the start date as end date - 7 days\n",
    "start_date_time = end_date_time - seven_day_delta\n",
    "start_date = start_date_time.date()\n",
    "\n",
    "\n",
    "##Set the time to 1PM for tweet retrieval\n",
    "\n",
    "start_date_time = start_date_time.replace(minute=0, hour=13, second=0)\n",
    "end_date_time = end_date_time.replace(minute=0, hour=13, second=0)\n",
    "end_date_time"
   ]
  },
  {
   "cell_type": "code",
   "execution_count": null,
   "id": "7dd02a4d",
   "metadata": {},
   "outputs": [],
   "source": []
  },
  {
   "cell_type": "code",
   "execution_count": 63,
   "id": "9e33df53",
   "metadata": {},
   "outputs": [],
   "source": [
    "# Set Alpaca API key and secret\n",
    "alpaca_api_key = os.getenv(\"ALPACA_API_KEY\")\n",
    "alpaca_secret_key = os.getenv(\"ALPACA_SECRET_KEY\")\n",
    "twitter_bearer_token = os.getenv(\"TWITTER_BEARER_TOKEN\")\n"
   ]
  },
  {
   "cell_type": "code",
   "execution_count": 64,
   "id": "7f90ee73",
   "metadata": {},
   "outputs": [],
   "source": [
    "# Create the Alpaca API object\n",
    "alpaca = tradeapi.REST(\n",
    "    alpaca_api_key,\n",
    "    alpaca_secret_key,\n",
    "    api_version=\"v2\")"
   ]
  },
  {
   "cell_type": "code",
   "execution_count": 65,
   "id": "e312ea8a",
   "metadata": {},
   "outputs": [],
   "source": [
    "# Format current date as ISO format\n",
    "start_date = pd.Timestamp(start_date, tz=\"America/New_York\").isoformat()\n",
    "end_date = pd.Timestamp(end_date, tz=\"America/New_York\").isoformat()\n",
    "\n",
    "timeframe = \"1Day\""
   ]
  },
  {
   "cell_type": "code",
   "execution_count": 66,
   "id": "3684b476",
   "metadata": {},
   "outputs": [
    {
     "name": "stdin",
     "output_type": "stream",
     "text": [
      "Enter the ticker for the analysis :  TSLA\n"
     ]
    }
   ],
   "source": [
    "ticker = input(\"Enter the ticker for the analysis : \")"
   ]
  },
  {
   "cell_type": "code",
   "execution_count": 67,
   "id": "ce582fe5",
   "metadata": {},
   "outputs": [
    {
     "data": {
      "text/plain": [
       "'TSLA'"
      ]
     },
     "execution_count": 67,
     "metadata": {},
     "output_type": "execute_result"
    }
   ],
   "source": [
    "ticker"
   ]
  },
  {
   "cell_type": "code",
   "execution_count": 68,
   "id": "ed3f7d40",
   "metadata": {},
   "outputs": [
    {
     "data": {
      "text/html": [
       "<div>\n",
       "<style scoped>\n",
       "    .dataframe tbody tr th:only-of-type {\n",
       "        vertical-align: middle;\n",
       "    }\n",
       "\n",
       "    .dataframe tbody tr th {\n",
       "        vertical-align: top;\n",
       "    }\n",
       "\n",
       "    .dataframe thead th {\n",
       "        text-align: right;\n",
       "    }\n",
       "</style>\n",
       "<table border=\"1\" class=\"dataframe\">\n",
       "  <thead>\n",
       "    <tr style=\"text-align: right;\">\n",
       "      <th></th>\n",
       "      <th>open</th>\n",
       "      <th>high</th>\n",
       "      <th>low</th>\n",
       "      <th>close</th>\n",
       "      <th>volume</th>\n",
       "      <th>trade_count</th>\n",
       "      <th>vwap</th>\n",
       "    </tr>\n",
       "    <tr>\n",
       "      <th>timestamp</th>\n",
       "      <th></th>\n",
       "      <th></th>\n",
       "      <th></th>\n",
       "      <th></th>\n",
       "      <th></th>\n",
       "      <th></th>\n",
       "      <th></th>\n",
       "    </tr>\n",
       "  </thead>\n",
       "  <tbody>\n",
       "    <tr>\n",
       "      <th>2022-05-09 04:00:00+00:00</th>\n",
       "      <td>836.41</td>\n",
       "      <td>845.6300</td>\n",
       "      <td>781.150</td>\n",
       "      <td>787.11</td>\n",
       "      <td>30196155</td>\n",
       "      <td>1129573</td>\n",
       "      <td>810.107982</td>\n",
       "    </tr>\n",
       "    <tr>\n",
       "      <th>2022-05-10 04:00:00+00:00</th>\n",
       "      <td>818.87</td>\n",
       "      <td>825.3600</td>\n",
       "      <td>774.250</td>\n",
       "      <td>800.04</td>\n",
       "      <td>28029762</td>\n",
       "      <td>890613</td>\n",
       "      <td>800.397258</td>\n",
       "    </tr>\n",
       "    <tr>\n",
       "      <th>2022-05-11 04:00:00+00:00</th>\n",
       "      <td>796.01</td>\n",
       "      <td>809.7700</td>\n",
       "      <td>727.200</td>\n",
       "      <td>734.00</td>\n",
       "      <td>32251681</td>\n",
       "      <td>1137179</td>\n",
       "      <td>765.927738</td>\n",
       "    </tr>\n",
       "    <tr>\n",
       "      <th>2022-05-12 04:00:00+00:00</th>\n",
       "      <td>701.10</td>\n",
       "      <td>759.6600</td>\n",
       "      <td>680.000</td>\n",
       "      <td>728.00</td>\n",
       "      <td>46672183</td>\n",
       "      <td>1389935</td>\n",
       "      <td>720.962135</td>\n",
       "    </tr>\n",
       "    <tr>\n",
       "      <th>2022-05-13 04:00:00+00:00</th>\n",
       "      <td>773.99</td>\n",
       "      <td>787.3499</td>\n",
       "      <td>751.565</td>\n",
       "      <td>769.59</td>\n",
       "      <td>30667186</td>\n",
       "      <td>862794</td>\n",
       "      <td>769.716998</td>\n",
       "    </tr>\n",
       "  </tbody>\n",
       "</table>\n",
       "</div>"
      ],
      "text/plain": [
       "                             open      high      low   close    volume  \\\n",
       "timestamp                                                                \n",
       "2022-05-09 04:00:00+00:00  836.41  845.6300  781.150  787.11  30196155   \n",
       "2022-05-10 04:00:00+00:00  818.87  825.3600  774.250  800.04  28029762   \n",
       "2022-05-11 04:00:00+00:00  796.01  809.7700  727.200  734.00  32251681   \n",
       "2022-05-12 04:00:00+00:00  701.10  759.6600  680.000  728.00  46672183   \n",
       "2022-05-13 04:00:00+00:00  773.99  787.3499  751.565  769.59  30667186   \n",
       "\n",
       "                           trade_count        vwap  \n",
       "timestamp                                           \n",
       "2022-05-09 04:00:00+00:00      1129573  810.107982  \n",
       "2022-05-10 04:00:00+00:00       890613  800.397258  \n",
       "2022-05-11 04:00:00+00:00      1137179  765.927738  \n",
       "2022-05-12 04:00:00+00:00      1389935  720.962135  \n",
       "2022-05-13 04:00:00+00:00       862794  769.716998  "
      ]
     },
     "execution_count": 68,
     "metadata": {},
     "output_type": "execute_result"
    }
   ],
   "source": [
    "df_stock_all = alpaca.get_bars(\n",
    "    ticker,\n",
    "    timeframe,\n",
    "    start = start_date,\n",
    "    end = end_date\n",
    ").df\n",
    "df_stock_all"
   ]
  },
  {
   "cell_type": "code",
   "execution_count": 69,
   "id": "2374a894",
   "metadata": {},
   "outputs": [],
   "source": [
    "# Set the Bearer Token for Authorisation for Twitter API call.\n",
    "auth_token = \"Bearer \" + twitter_bearer_token\n",
    "headers = {\"Authorization\": auth_token}\n",
    "\n",
    "## Function to read 100 recent tweets related to ticker and from the date time specified.\n",
    "def read_100_Tweets(ticker, tweet_date_time):\n",
    "    ## Function to read 100 recent tweets from the specific dates\n",
    "    ##  Input : ticker - Stock Ticker\n",
    "    ##          tweet_date_time - UTC Date/Time Format YYYY-MM-DDTHH:mm:ssZ (ISO 8601/RFC 3339)\n",
    "    ## \n",
    "    ##  Output: List of 100 tweets\n",
    "    twitter_api_url  = f\"https://api.twitter.com/2/tweets/search/recent?max_results=100&query={ticker}&start_time={tweet_date_time}\"\n",
    "    response = requests.get(twitter_api_url, headers=headers)\n",
    "    ## Check for 200 status code which means it was successful\n",
    "    tweets_list = [];\n",
    "    if(response.status_code == 200):\n",
    "        json_response = response.json()\n",
    "        #Check if there are any tweets at all\n",
    "        if('data' in json_response.keys()): \n",
    "            all_tweets = response.json()[\"data\"]\n",
    "            for tweet in all_tweets:\n",
    "                tweets_list.append(tweet[\"text\"])\n",
    "            \n",
    "    else:\n",
    "        print(f\"Response code: {response.status_code}.  Error in getting the tweet\");\n",
    "    return tweets_list    "
   ]
  },
  {
   "cell_type": "code",
   "execution_count": 70,
   "id": "936641f2",
   "metadata": {},
   "outputs": [],
   "source": [
    "## Perform Vader Sentiment Analysis\n",
    "\n",
    "## Define Sentiment Object for Sentiment Analysis\n",
    "\n",
    "sentiment_obj = SentimentIntensityAnalyzer()\n",
    "def perform_sentiment_analysis(tweets_list):\n",
    "    ## Function to read 100 recent tweets from the specific dates\n",
    "    ##  Input : tweets_list - List of 100 tweets\n",
    "    ##          \n",
    "    ## \n",
    "    ##  Output: sentiment score average\n",
    "    \n",
    "    ##Check if there are tweets to analyse\n",
    "    if (len(tweets_list) > 0):\n",
    "        sentiment_scores_all = []\n",
    "        for tweet in tweets_list:\n",
    "            sentiment_dict = sentiment_obj.polarity_scores(tweet)\n",
    "            sentiment_scores_all.append(sentiment_dict[\"compound\"])\n",
    "\n",
    "        #Average the sentiment of all tweets    \n",
    "        average_sentiment = np.average(sentiment_scores_all)\n",
    "        return average_sentiment\n",
    "    else:\n",
    "        return 0;\n",
    "    "
   ]
  },
  {
   "cell_type": "code",
   "execution_count": 71,
   "id": "866182c5",
   "metadata": {},
   "outputs": [
    {
     "name": "stdout",
     "output_type": "stream",
     "text": [
      "Executing Tweet Analysis for TSLA on 2022-05-07T13:00:00.620018\n",
      "Response code: 400.  Error in getting the tweet\n",
      "Executing Tweet Analysis for TSLA on 2022-05-08T13:00:00.620018\n",
      "Executing Tweet Analysis for TSLA on 2022-05-09T13:00:00.620018\n",
      "Executing Tweet Analysis for TSLA on 2022-05-10T13:00:00.620018\n",
      "Executing Tweet Analysis for TSLA on 2022-05-11T13:00:00.620018\n",
      "Executing Tweet Analysis for TSLA on 2022-05-12T13:00:00.620018\n",
      "Executing Tweet Analysis for TSLA on 2022-05-13T13:00:00.620018\n",
      "Executing Tweet Analysis for TSLA on 2022-05-14T13:00:00.620018\n"
     ]
    }
   ],
   "source": [
    "tweet_sentiments = []\n",
    "analysis_date_time = start_date_time\n",
    "while analysis_date_time <= end_date_time:\n",
    "    delta = timedelta(days=1)\n",
    "    print(f\"Executing Tweet Analysis for {ticker} on {analysis_date_time.isoformat()}\")\n",
    "    tweets_list = read_100_Tweets(ticker, analysis_date_time.isoformat() + \"Z\")\n",
    "    sentiment_score = perform_sentiment_analysis(tweets_list)\n",
    "    tweet_sentiment = {}\n",
    "    tweet_sentiment[\"Ticker\"] = ticker\n",
    "    tweet_sentiment[\"Date\"] = analysis_date_time\n",
    "    tweet_sentiment[\"Sentiment_Score\"] = sentiment_score\n",
    "    tweet_sentiments.append(tweet_sentiment)\n",
    "        #print(\"Ticker: \" + tweet_sentiment[\"ticker\"] + \", Date : \" + str(tweet_sentiment[\"date\"]) + \", Sentiment Score: \" + str(tweet_sentiment[\"sentiment_score\"]))\n",
    "    analysis_date_time += delta"
   ]
  },
  {
   "cell_type": "code",
   "execution_count": 72,
   "id": "5a5bbd7d",
   "metadata": {},
   "outputs": [
    {
     "data": {
      "text/plain": [
       "[{'Ticker': 'TSLA',\n",
       "  'Date': datetime.datetime(2022, 5, 7, 13, 0, 0, 620018),\n",
       "  'Sentiment_Score': 0},\n",
       " {'Ticker': 'TSLA',\n",
       "  'Date': datetime.datetime(2022, 5, 8, 13, 0, 0, 620018),\n",
       "  'Sentiment_Score': 0.12281099999999999},\n",
       " {'Ticker': 'TSLA',\n",
       "  'Date': datetime.datetime(2022, 5, 9, 13, 0, 0, 620018),\n",
       "  'Sentiment_Score': 0.12281099999999999},\n",
       " {'Ticker': 'TSLA',\n",
       "  'Date': datetime.datetime(2022, 5, 10, 13, 0, 0, 620018),\n",
       "  'Sentiment_Score': 0.12281099999999999},\n",
       " {'Ticker': 'TSLA',\n",
       "  'Date': datetime.datetime(2022, 5, 11, 13, 0, 0, 620018),\n",
       "  'Sentiment_Score': 0.12281099999999999},\n",
       " {'Ticker': 'TSLA',\n",
       "  'Date': datetime.datetime(2022, 5, 12, 13, 0, 0, 620018),\n",
       "  'Sentiment_Score': 0.12281099999999999},\n",
       " {'Ticker': 'TSLA',\n",
       "  'Date': datetime.datetime(2022, 5, 13, 13, 0, 0, 620018),\n",
       "  'Sentiment_Score': 0.12281099999999999},\n",
       " {'Ticker': 'TSLA',\n",
       "  'Date': datetime.datetime(2022, 5, 14, 13, 0, 0, 620018),\n",
       "  'Sentiment_Score': 0.12281099999999999}]"
      ]
     },
     "execution_count": 72,
     "metadata": {},
     "output_type": "execute_result"
    }
   ],
   "source": [
    "tweet_sentiments"
   ]
  },
  {
   "cell_type": "code",
   "execution_count": 73,
   "id": "5703223f",
   "metadata": {},
   "outputs": [],
   "source": [
    "stock_tweet_sentiment_df = pd.DataFrame(tweet_sentiments)\n",
    "#Date Clean up\n",
    "stock_tweet_sentiment_df[\"Date\"] = pd.to_datetime(stock_tweet_sentiment_df[\"Date\"].dt.date)\n",
    "#Check Date Type"
   ]
  },
  {
   "cell_type": "code",
   "execution_count": 73,
   "id": "23d6f26d",
   "metadata": {},
   "outputs": [],
   "source": [
    "stock_tweet_sentiment_df.dtypes"
   ]
  },
  {
   "cell_type": "code",
   "execution_count": 74,
   "id": "a3b3452a",
   "metadata": {},
   "outputs": [
    {
     "data": {
      "text/html": [
       "<div>\n",
       "<style scoped>\n",
       "    .dataframe tbody tr th:only-of-type {\n",
       "        vertical-align: middle;\n",
       "    }\n",
       "\n",
       "    .dataframe tbody tr th {\n",
       "        vertical-align: top;\n",
       "    }\n",
       "\n",
       "    .dataframe thead th {\n",
       "        text-align: right;\n",
       "    }\n",
       "</style>\n",
       "<table border=\"1\" class=\"dataframe\">\n",
       "  <thead>\n",
       "    <tr style=\"text-align: right;\">\n",
       "      <th></th>\n",
       "      <th>Ticker</th>\n",
       "      <th>Date</th>\n",
       "      <th>Sentiment_Score</th>\n",
       "    </tr>\n",
       "  </thead>\n",
       "  <tbody>\n",
       "    <tr>\n",
       "      <th>0</th>\n",
       "      <td>TSLA</td>\n",
       "      <td>2022-05-07</td>\n",
       "      <td>0.000000</td>\n",
       "    </tr>\n",
       "    <tr>\n",
       "      <th>1</th>\n",
       "      <td>TSLA</td>\n",
       "      <td>2022-05-08</td>\n",
       "      <td>0.122811</td>\n",
       "    </tr>\n",
       "    <tr>\n",
       "      <th>2</th>\n",
       "      <td>TSLA</td>\n",
       "      <td>2022-05-09</td>\n",
       "      <td>0.122811</td>\n",
       "    </tr>\n",
       "    <tr>\n",
       "      <th>3</th>\n",
       "      <td>TSLA</td>\n",
       "      <td>2022-05-10</td>\n",
       "      <td>0.122811</td>\n",
       "    </tr>\n",
       "    <tr>\n",
       "      <th>4</th>\n",
       "      <td>TSLA</td>\n",
       "      <td>2022-05-11</td>\n",
       "      <td>0.122811</td>\n",
       "    </tr>\n",
       "    <tr>\n",
       "      <th>5</th>\n",
       "      <td>TSLA</td>\n",
       "      <td>2022-05-12</td>\n",
       "      <td>0.122811</td>\n",
       "    </tr>\n",
       "    <tr>\n",
       "      <th>6</th>\n",
       "      <td>TSLA</td>\n",
       "      <td>2022-05-13</td>\n",
       "      <td>0.122811</td>\n",
       "    </tr>\n",
       "    <tr>\n",
       "      <th>7</th>\n",
       "      <td>TSLA</td>\n",
       "      <td>2022-05-14</td>\n",
       "      <td>0.122811</td>\n",
       "    </tr>\n",
       "  </tbody>\n",
       "</table>\n",
       "</div>"
      ],
      "text/plain": [
       "  Ticker       Date  Sentiment_Score\n",
       "0   TSLA 2022-05-07         0.000000\n",
       "1   TSLA 2022-05-08         0.122811\n",
       "2   TSLA 2022-05-09         0.122811\n",
       "3   TSLA 2022-05-10         0.122811\n",
       "4   TSLA 2022-05-11         0.122811\n",
       "5   TSLA 2022-05-12         0.122811\n",
       "6   TSLA 2022-05-13         0.122811\n",
       "7   TSLA 2022-05-14         0.122811"
      ]
     },
     "execution_count": 74,
     "metadata": {},
     "output_type": "execute_result"
    }
   ],
   "source": [
    "stock_tweet_sentiment_df"
   ]
  }
 ],
 "metadata": {
  "kernelspec": {
   "display_name": "Python [conda env:pyvizenv] *",
   "language": "python",
   "name": "conda-env-pyvizenv-py"
  },
  "language_info": {
   "codemirror_mode": {
    "name": "ipython",
    "version": 3
   },
   "file_extension": ".py",
   "mimetype": "text/x-python",
   "name": "python",
   "nbconvert_exporter": "python",
   "pygments_lexer": "ipython3",
   "version": "3.7.11"
  }
 },
 "nbformat": 4,
 "nbformat_minor": 5
}
