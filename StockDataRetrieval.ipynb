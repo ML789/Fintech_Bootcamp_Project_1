{
 "cells": [
  {
   "cell_type": "code",
   "execution_count": 1,
   "id": "1efdc198",
   "metadata": {},
   "outputs": [
    {
     "ename": "ModuleNotFoundError",
     "evalue": "No module named 'alpaca_trade_api'",
     "output_type": "error",
     "traceback": [
      "\u001b[1;31m---------------------------------------------------------------------------\u001b[0m",
      "\u001b[1;31mModuleNotFoundError\u001b[0m                       Traceback (most recent call last)",
      "\u001b[1;32m~\\AppData\\Local\\Temp/ipykernel_3572/2393567487.py\u001b[0m in \u001b[0;36m<module>\u001b[1;34m\u001b[0m\n\u001b[0;32m      4\u001b[0m \u001b[1;32mimport\u001b[0m \u001b[0mpandas\u001b[0m \u001b[1;32mas\u001b[0m \u001b[0mpd\u001b[0m\u001b[1;33m\u001b[0m\u001b[1;33m\u001b[0m\u001b[0m\n\u001b[0;32m      5\u001b[0m \u001b[1;32mfrom\u001b[0m \u001b[0mdotenv\u001b[0m \u001b[1;32mimport\u001b[0m \u001b[0mload_dotenv\u001b[0m\u001b[1;33m\u001b[0m\u001b[1;33m\u001b[0m\u001b[0m\n\u001b[1;32m----> 6\u001b[1;33m \u001b[1;32mimport\u001b[0m \u001b[0malpaca_trade_api\u001b[0m \u001b[1;32mas\u001b[0m \u001b[0mtradeapi\u001b[0m\u001b[1;33m\u001b[0m\u001b[1;33m\u001b[0m\u001b[0m\n\u001b[0m\u001b[0;32m      7\u001b[0m \u001b[1;32mimport\u001b[0m \u001b[0mnumpy\u001b[0m \u001b[1;32mas\u001b[0m \u001b[0mnp\u001b[0m\u001b[1;33m\u001b[0m\u001b[1;33m\u001b[0m\u001b[0m\n\u001b[0;32m      8\u001b[0m \u001b[1;32mimport\u001b[0m \u001b[0mdatetime\u001b[0m\u001b[1;33m\u001b[0m\u001b[1;33m\u001b[0m\u001b[0m\n",
      "\u001b[1;31mModuleNotFoundError\u001b[0m: No module named 'alpaca_trade_api'"
     ]
    }
   ],
   "source": [
    "# Initial imports\n",
    "import os\n",
    "import requests\n",
    "import pandas as pd\n",
    "from dotenv import load_dotenv\n",
    "import alpaca_trade_api as tradeapi\n",
    "import numpy as np\n",
    "import datetime\n"
   ]
  },
  {
   "cell_type": "code",
   "execution_count": 2,
   "id": "8c204842",
   "metadata": {},
   "outputs": [
    {
     "data": {
      "text/plain": [
       "True"
      ]
     },
     "execution_count": 2,
     "metadata": {},
     "output_type": "execute_result"
    }
   ],
   "source": [
    "# Load .env environment variables\n",
    "load_dotenv()"
   ]
  },
  {
   "cell_type": "code",
   "execution_count": 3,
   "id": "6594b9ae",
   "metadata": {},
   "outputs": [],
   "source": [
    "# Set adjustable variables\n",
    "no_tickers = 30\n",
    "start_date = \"2022-05-5\" # format yyyy-mm-dd\n",
    "end_date   = \"2022-05-12\" # format yyyy-mm-dd"
   ]
  },
  {
   "cell_type": "code",
   "execution_count": 4,
   "id": "6f4b3732",
   "metadata": {},
   "outputs": [],
   "source": [
    "# Set Alpaca API key and secret\n",
    "alpaca_api_key = os.getenv(\"ALPACA_API_KEY\")\n",
    "alpaca_secret_key = os.getenv(\"ALPACA_SECRET_KEY\")"
   ]
  },
  {
   "cell_type": "code",
   "execution_count": 5,
   "id": "5994aa90",
   "metadata": {},
   "outputs": [],
   "source": [
    "# Create the Alpaca API object\n",
    "alpaca = tradeapi.REST(\n",
    "    alpaca_api_key,\n",
    "    alpaca_secret_key,\n",
    "    api_version=\"v2\")"
   ]
  },
  {
   "cell_type": "code",
   "execution_count": 6,
   "id": "81998e71",
   "metadata": {},
   "outputs": [],
   "source": [
    "#import csv file of all tickers to a list\n",
    "\n",
    "full_ticker_list = pd.read_csv ('Data/nasdaq_screener_assets.csv')\n",
    "#drop unwanted columns\n",
    "full_ticker_list = full_ticker_list.drop(['Last Sale', 'Net Change', '% Change', 'Market Cap',\n",
    "       'Country', 'IPO Year', 'Volume', 'Sector', 'Industry'], axis = 'columns')\n",
    "\n",
    "# Remove Tickers with '^', '/', & spaces as Alpaca does not accept them\n",
    "full_ticker_list = full_ticker_list[~full_ticker_list.Symbol.str.contains('^', regex = False)\n",
    "                                    & ~full_ticker_list.Symbol.str.contains('/', regex = False)\n",
    "                                    & ~full_ticker_list.Symbol.str.contains(' ', regex = False)\n",
    "                                   ]"
   ]
  },
  {
   "cell_type": "code",
   "execution_count": 7,
   "id": "bcb8c06c",
   "metadata": {},
   "outputs": [],
   "source": [
    "# Format current date as ISO format\n",
    "start_date = pd.Timestamp(start_date, tz=\"America/New_York\").isoformat()\n",
    "end_date = pd.Timestamp(end_date, tz=\"America/New_York\").isoformat()\n",
    "\n",
    "timeframe = \"1Day\""
   ]
  },
  {
   "cell_type": "code",
   "execution_count": 8,
   "id": "2d6ca579",
   "metadata": {},
   "outputs": [],
   "source": [
    "alpaca_tickers = list(full_ticker_list['Symbol'])"
   ]
  },
  {
   "cell_type": "code",
   "execution_count": 9,
   "id": "75861c9b",
   "metadata": {},
   "outputs": [],
   "source": [
    "df_stock_all = alpaca.get_bars(\n",
    "    alpaca_tickers,\n",
    "    timeframe,\n",
    "    start = start_date,\n",
    "    end = end_date\n",
    ").df"
   ]
  },
  {
   "cell_type": "code",
   "execution_count": 10,
   "id": "4b159927",
   "metadata": {},
   "outputs": [],
   "source": [
    "\n",
    "# Set up stock_price_change varialbe as data frame to capture all start and end values\n",
    "stock_price_change = pd.DataFrame(columns = ['Ticker', 'Start Price', 'End Price','Price Change'])\n",
    "stock_price_change['Ticker'] = full_ticker_list['Symbol']\n",
    "\n",
    "# loop through the \n",
    "for index in stock_price_change.index:\n",
    "    ticker = stock_price_change['Ticker'][index]\n",
    "    ticker_data_temp = df_stock_all[df_stock_all.symbol == ticker]\n",
    "    \n",
    "    # ignore ticker if no symbol was found from Alpaca\n",
    "    if ticker_data_temp.size != 0:\n",
    "    \n",
    "        stock_price_change['Start Price'][index] = ticker_data_temp.at[ticker_data_temp.index.max(), 'close']\n",
    "        stock_price_change['End Price'][index] = ticker_data_temp.at[ticker_data_temp.index.min(), 'close']\n",
    "\n",
    "# calculate price change\n",
    "stock_price_change['Price Change'] = stock_price_change['End Price'] - stock_price_change['Start Price']\n",
    "stock_price_change['Price Change %'] = (stock_price_change['Price Change']/stock_price_change['Start Price'])*100\n"
   ]
  },
  {
   "cell_type": "code",
   "execution_count": 11,
   "id": "81f2258e",
   "metadata": {},
   "outputs": [],
   "source": [
    "# Clean stock_price_change, drop NaNs and sort in order of % change\n",
    "stock_price_change.sort_values(by = 'Price Change %',ascending = False, inplace = True)\n",
    "stock_price_change.dropna(axis = 'index', how = 'any' ,inplace = True)\n",
    "stock_price_change.reset_index(drop = True, inplace = True)\n"
   ]
  },
  {
   "cell_type": "code",
   "execution_count": 12,
   "id": "16966137",
   "metadata": {},
   "outputs": [],
   "source": [
    "# Select Tickers for analysis distributed through Data Set\n",
    "rows_count = stock_price_change.shape[0]\n",
    "# calculate step size for selection less one to avoid the ends\n",
    "increment = round(rows_count/(no_tickers))-1\n",
    "list_select_tickers = range(round(no_tickers/2), rows_count, increment)\n"
   ]
  },
  {
   "cell_type": "code",
   "execution_count": 13,
   "id": "dcf384c0",
   "metadata": {},
   "outputs": [],
   "source": [
    "list_analysis_tickers = list(stock_price_change['Ticker'][list_select_tickers].values)"
   ]
  },
  {
   "cell_type": "code",
   "execution_count": 14,
   "id": "ca84458a",
   "metadata": {
    "collapsed": true,
    "jupyter": {
     "outputs_hidden": true
    },
    "tags": []
   },
   "outputs": [
    {
     "name": "stderr",
     "output_type": "stream",
     "text": [
      "C:\\Users\\mclew\\anaconda3\\envs\\alpacaenv\\lib\\site-packages\\pandas\\core\\indexing.py:1773: SettingWithCopyWarning: \n",
      "A value is trying to be set on a copy of a slice from a DataFrame.\n",
      "Try using .loc[row_indexer,col_indexer] = value instead\n",
      "\n",
      "See the caveats in the documentation: https://pandas.pydata.org/pandas-docs/stable/user_guide/indexing.html#returning-a-view-versus-a-copy\n",
      "  self._setitem_single_column(ilocs[0], value, pi)\n",
      "C:\\Users\\mclew\\anaconda3\\envs\\alpacaenv\\lib\\site-packages\\pandas\\core\\frame.py:4913: SettingWithCopyWarning: \n",
      "A value is trying to be set on a copy of a slice from a DataFrame\n",
      "\n",
      "See the caveats in the documentation: https://pandas.pydata.org/pandas-docs/stable/user_guide/indexing.html#returning-a-view-versus-a-copy\n",
      "  errors=errors,\n"
     ]
    }
   ],
   "source": [
    "# capture stock price data of the selected tickers for analysis \n",
    "df_stock_price_data = df_stock_all[df_stock_all['symbol'].isin(list_analysis_tickers)]\n",
    "df_stock_price_data.reset_index(inplace = True)\n",
    "\n",
    "df_stock_price_data.loc[:,'timestamp'] = df_stock_price_data['timestamp'].dt.date\n",
    "\n",
    "df_stock_price_data.drop(['open','high','low','volume','trade_count','vwap'], axis='columns',inplace = True)\n",
    "df_stock_price_data.columns = ['Date','Close','Ticker']\n"
   ]
  },
  {
   "cell_type": "code",
   "execution_count": 15,
   "id": "6d6fbbb5",
   "metadata": {},
   "outputs": [],
   "source": [
    "# save CSV of df_stock_price_data as 'Data/StockPriceData.csv'\n",
    "df_stock_price_data.to_csv('Data/StockPriceData.csv')"
   ]
  }
 ],
 "metadata": {
  "kernelspec": {
   "display_name": "Python 3 (ipykernel)",
   "language": "python",
   "name": "python3"
  },
  "language_info": {
   "codemirror_mode": {
    "name": "ipython",
    "version": 3
   },
   "file_extension": ".py",
   "mimetype": "text/x-python",
   "name": "python",
   "nbconvert_exporter": "python",
   "pygments_lexer": "ipython3",
   "version": "3.7.11"
  }
 },
 "nbformat": 4,
 "nbformat_minor": 5
}
